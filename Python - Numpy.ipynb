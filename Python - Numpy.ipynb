{
 "cells": [
  {
   "cell_type": "markdown",
   "id": "daec0e8c",
   "metadata": {},
   "source": [
    "## Installing and Importing Numpy"
   ]
  },
  {
   "cell_type": "code",
   "execution_count": 4,
   "id": "9394c487",
   "metadata": {
    "ExecuteTime": {
     "end_time": "2023-10-21T05:32:48.395835Z",
     "start_time": "2023-10-21T05:32:41.575506Z"
    }
   },
   "outputs": [
    {
     "name": "stdout",
     "output_type": "stream",
     "text": [
      "Requirement already satisfied: numpy in c:\\users\\shant\\anaconda3\\lib\\site-packages (1.22.4)\n"
     ]
    }
   ],
   "source": [
    "!pip install numpy"
   ]
  },
  {
   "cell_type": "code",
   "execution_count": 6,
   "id": "d30d1163",
   "metadata": {
    "ExecuteTime": {
     "end_time": "2023-10-21T05:33:10.613668Z",
     "start_time": "2023-10-21T05:33:10.600474Z"
    }
   },
   "outputs": [],
   "source": [
    "import numpy as np"
   ]
  },
  {
   "cell_type": "markdown",
   "id": "136ea7a1",
   "metadata": {
    "ExecuteTime": {
     "end_time": "2023-10-21T05:33:50.465646Z",
     "start_time": "2023-10-21T05:33:50.450463Z"
    }
   },
   "source": [
    "## Create a Numpy Array (Ndarray)"
   ]
  },
  {
   "cell_type": "code",
   "execution_count": 8,
   "id": "b7dfce71",
   "metadata": {
    "ExecuteTime": {
     "end_time": "2023-10-21T05:37:19.145360Z",
     "start_time": "2023-10-21T05:37:19.073075Z"
    }
   },
   "outputs": [
    {
     "data": {
      "text/plain": [
       "array(11)"
      ]
     },
     "execution_count": 8,
     "metadata": {},
     "output_type": "execute_result"
    }
   ],
   "source": [
    "np.array(11)   # 0 dimentional array"
   ]
  },
  {
   "cell_type": "code",
   "execution_count": 9,
   "id": "2ce23865",
   "metadata": {
    "ExecuteTime": {
     "end_time": "2023-10-21T05:37:45.269462Z",
     "start_time": "2023-10-21T05:37:45.251466Z"
    }
   },
   "outputs": [
    {
     "data": {
      "text/plain": [
       "array([1, 2, 3, 4, 5])"
      ]
     },
     "execution_count": 9,
     "metadata": {},
     "output_type": "execute_result"
    }
   ],
   "source": [
    "np.array([1,2,3,4,5])   # 1 dimensional array"
   ]
  },
  {
   "cell_type": "code",
   "execution_count": 12,
   "id": "6a740c45",
   "metadata": {
    "ExecuteTime": {
     "end_time": "2023-10-21T05:40:39.386265Z",
     "start_time": "2023-10-21T05:40:39.374232Z"
    }
   },
   "outputs": [],
   "source": [
    "x = np.array([1,2,3,4,5])   # 1 dimensional array"
   ]
  },
  {
   "cell_type": "code",
   "execution_count": 13,
   "id": "83b47da9",
   "metadata": {
    "ExecuteTime": {
     "end_time": "2023-10-21T05:40:43.505296Z",
     "start_time": "2023-10-21T05:40:43.460549Z"
    }
   },
   "outputs": [
    {
     "data": {
      "text/plain": [
       "array([1, 2, 3, 4, 5])"
      ]
     },
     "execution_count": 13,
     "metadata": {},
     "output_type": "execute_result"
    }
   ],
   "source": [
    "x"
   ]
  },
  {
   "cell_type": "code",
   "execution_count": 15,
   "id": "e5abf2e1",
   "metadata": {
    "ExecuteTime": {
     "end_time": "2023-10-21T05:42:09.620930Z",
     "start_time": "2023-10-21T05:42:09.599300Z"
    }
   },
   "outputs": [
    {
     "data": {
      "text/plain": [
       "array([[ 1,  2,  3,  4,  5],\n",
       "       [ 6,  7,  8,  9, 10]])"
      ]
     },
     "execution_count": 15,
     "metadata": {},
     "output_type": "execute_result"
    }
   ],
   "source": [
    "np.array([[1,2,3,4,5],[6,7,8,9,10]])"
   ]
  },
  {
   "cell_type": "code",
   "execution_count": 17,
   "id": "a7848773",
   "metadata": {
    "ExecuteTime": {
     "end_time": "2023-10-21T05:42:44.769284Z",
     "start_time": "2023-10-21T05:42:44.728163Z"
    }
   },
   "outputs": [
    {
     "data": {
      "text/plain": [
       "array([[1, 2, 3, 4, 5],\n",
       "       [6, 7, 8, 9, 10]], dtype=object)"
      ]
     },
     "execution_count": 17,
     "metadata": {},
     "output_type": "execute_result"
    }
   ],
   "source": [
    "np.array([list([1, 2, 3, 4, 5]), list([6, 7, 8, 9,10])], dtype=object)\n"
   ]
  },
  {
   "cell_type": "code",
   "execution_count": 18,
   "id": "5175870d",
   "metadata": {
    "ExecuteTime": {
     "end_time": "2023-10-21T05:44:24.550886Z",
     "start_time": "2023-10-21T05:44:24.522652Z"
    }
   },
   "outputs": [
    {
     "data": {
      "text/plain": [
       "array([[0, 0, 0, 0],\n",
       "       [0, 0, 0, 0],\n",
       "       [0, 0, 0, 0]])"
      ]
     },
     "execution_count": 18,
     "metadata": {},
     "output_type": "execute_result"
    }
   ],
   "source": [
    "np.zeros((3,4), dtype = int)  # (no of rows , no of columns)"
   ]
  },
  {
   "cell_type": "code",
   "execution_count": 20,
   "id": "2e8dbdcf",
   "metadata": {
    "ExecuteTime": {
     "end_time": "2023-10-21T05:46:07.463270Z",
     "start_time": "2023-10-21T05:46:07.444230Z"
    }
   },
   "outputs": [
    {
     "data": {
      "text/plain": [
       "array([1, 1, 1, 1, 1, 1])"
      ]
     },
     "execution_count": 20,
     "metadata": {},
     "output_type": "execute_result"
    }
   ],
   "source": [
    "np.ones(6 , dtype=int)"
   ]
  },
  {
   "cell_type": "markdown",
   "id": "81376366",
   "metadata": {},
   "source": [
    "### Identity Matrics"
   ]
  },
  {
   "cell_type": "code",
   "execution_count": 28,
   "id": "9d09e392",
   "metadata": {
    "ExecuteTime": {
     "end_time": "2023-10-21T05:57:02.219649Z",
     "start_time": "2023-10-21T05:57:02.193662Z"
    }
   },
   "outputs": [
    {
     "data": {
      "text/plain": [
       "array([[1, 0, 0],\n",
       "       [0, 1, 0],\n",
       "       [0, 0, 1]])"
      ]
     },
     "execution_count": 28,
     "metadata": {},
     "output_type": "execute_result"
    }
   ],
   "source": [
    "np.eye(3 , dtype=int)"
   ]
  },
  {
   "cell_type": "markdown",
   "id": "fc2e4652",
   "metadata": {},
   "source": [
    "### Arange Function"
   ]
  },
  {
   "cell_type": "code",
   "execution_count": 24,
   "id": "3e56e2b0",
   "metadata": {
    "ExecuteTime": {
     "end_time": "2023-10-21T05:50:24.705273Z",
     "start_time": "2023-10-21T05:50:24.670009Z"
    }
   },
   "outputs": [
    {
     "data": {
      "text/plain": [
       "array([1, 2, 3, 4, 5, 6, 7, 8, 9])"
      ]
     },
     "execution_count": 24,
     "metadata": {},
     "output_type": "execute_result"
    }
   ],
   "source": [
    "np.arange(1,10)"
   ]
  },
  {
   "cell_type": "code",
   "execution_count": 25,
   "id": "2a03243a",
   "metadata": {
    "ExecuteTime": {
     "end_time": "2023-10-21T05:50:40.225664Z",
     "start_time": "2023-10-21T05:50:40.212699Z"
    }
   },
   "outputs": [
    {
     "data": {
      "text/plain": [
       "array([1, 3, 5, 7, 9])"
      ]
     },
     "execution_count": 25,
     "metadata": {},
     "output_type": "execute_result"
    }
   ],
   "source": [
    "np.arange(1,10,2)"
   ]
  },
  {
   "cell_type": "markdown",
   "id": "968361f3",
   "metadata": {},
   "source": [
    "### random function"
   ]
  },
  {
   "cell_type": "code",
   "execution_count": 26,
   "id": "9b7162ed",
   "metadata": {
    "ExecuteTime": {
     "end_time": "2023-10-21T05:51:30.334861Z",
     "start_time": "2023-10-21T05:51:30.299927Z"
    }
   },
   "outputs": [
    {
     "data": {
      "text/plain": [
       "array([[0.50626916, 0.5316032 , 0.28863995],\n",
       "       [0.14323339, 0.83338001, 0.91199211]])"
      ]
     },
     "execution_count": 26,
     "metadata": {},
     "output_type": "execute_result"
    }
   ],
   "source": [
    "np.random.random((2,3))"
   ]
  },
  {
   "cell_type": "code",
   "execution_count": 27,
   "id": "eed09486",
   "metadata": {
    "ExecuteTime": {
     "end_time": "2023-10-21T05:55:23.407458Z",
     "start_time": "2023-10-21T05:55:23.384372Z"
    }
   },
   "outputs": [
    {
     "data": {
      "text/plain": [
       "array([[0.88604015, 0.53024345, 0.39642786],\n",
       "       [0.37911987, 0.1971622 , 0.40062075]])"
      ]
     },
     "execution_count": 27,
     "metadata": {},
     "output_type": "execute_result"
    }
   ],
   "source": [
    "np.random.random((2,3))"
   ]
  },
  {
   "cell_type": "markdown",
   "id": "ec84017a",
   "metadata": {
    "ExecuteTime": {
     "end_time": "2023-10-21T06:18:10.026302Z",
     "start_time": "2023-10-21T06:18:09.990305Z"
    }
   },
   "source": [
    "## Array Inspection"
   ]
  },
  {
   "cell_type": "code",
   "execution_count": 31,
   "id": "bd36d3d2",
   "metadata": {
    "ExecuteTime": {
     "end_time": "2023-10-21T06:19:06.862429Z",
     "start_time": "2023-10-21T06:19:06.837270Z"
    }
   },
   "outputs": [],
   "source": [
    "arr = np.array([[1,2,3,4],[6,7,8,9]])"
   ]
  },
  {
   "cell_type": "code",
   "execution_count": 33,
   "id": "becb0639",
   "metadata": {
    "ExecuteTime": {
     "end_time": "2023-10-21T06:19:15.881028Z",
     "start_time": "2023-10-21T06:19:15.844469Z"
    }
   },
   "outputs": [
    {
     "data": {
      "text/plain": [
       "array([[1, 2, 3, 4],\n",
       "       [6, 7, 8, 9]])"
      ]
     },
     "execution_count": 33,
     "metadata": {},
     "output_type": "execute_result"
    }
   ],
   "source": [
    "arr"
   ]
  },
  {
   "cell_type": "code",
   "execution_count": 34,
   "id": "7ff63a58",
   "metadata": {
    "ExecuteTime": {
     "end_time": "2023-10-21T06:19:25.853774Z",
     "start_time": "2023-10-21T06:19:25.828085Z"
    }
   },
   "outputs": [
    {
     "data": {
      "text/plain": [
       "(2, 4)"
      ]
     },
     "execution_count": 34,
     "metadata": {},
     "output_type": "execute_result"
    }
   ],
   "source": [
    "arr.shape"
   ]
  },
  {
   "cell_type": "code",
   "execution_count": 36,
   "id": "1683bd96",
   "metadata": {
    "ExecuteTime": {
     "end_time": "2023-10-21T06:19:55.428450Z",
     "start_time": "2023-10-21T06:19:55.417419Z"
    }
   },
   "outputs": [
    {
     "data": {
      "text/plain": [
       "(2, 3)"
      ]
     },
     "execution_count": 36,
     "metadata": {},
     "output_type": "execute_result"
    }
   ],
   "source": [
    "arr = np.array([[1,2,3],[6,7,8]])\n",
    "arr.shape"
   ]
  },
  {
   "cell_type": "code",
   "execution_count": 37,
   "id": "b02ecbc2",
   "metadata": {
    "ExecuteTime": {
     "end_time": "2023-10-21T06:20:23.142545Z",
     "start_time": "2023-10-21T06:20:23.121940Z"
    }
   },
   "outputs": [
    {
     "data": {
      "text/plain": [
       "array([[1, 2, 3],\n",
       "       [6, 7, 8]])"
      ]
     },
     "execution_count": 37,
     "metadata": {},
     "output_type": "execute_result"
    }
   ],
   "source": [
    "arr"
   ]
  },
  {
   "cell_type": "code",
   "execution_count": 38,
   "id": "f0915216",
   "metadata": {
    "ExecuteTime": {
     "end_time": "2023-10-21T06:20:35.509196Z",
     "start_time": "2023-10-21T06:20:35.488985Z"
    }
   },
   "outputs": [
    {
     "data": {
      "text/plain": [
       "array([[1, 2],\n",
       "       [3, 6],\n",
       "       [7, 8]])"
      ]
     },
     "execution_count": 38,
     "metadata": {},
     "output_type": "execute_result"
    }
   ],
   "source": [
    "arr.shape = (3,2)\n",
    "arr"
   ]
  },
  {
   "cell_type": "code",
   "execution_count": 39,
   "id": "c4dd36f3",
   "metadata": {
    "ExecuteTime": {
     "end_time": "2023-10-21T06:21:08.635454Z",
     "start_time": "2023-10-21T06:21:08.624400Z"
    }
   },
   "outputs": [
    {
     "data": {
      "text/plain": [
       "array([[1],\n",
       "       [2],\n",
       "       [3],\n",
       "       [4],\n",
       "       [6],\n",
       "       [7],\n",
       "       [8],\n",
       "       [9]])"
      ]
     },
     "execution_count": 39,
     "metadata": {},
     "output_type": "execute_result"
    }
   ],
   "source": [
    "arr = np.array([[1,2,3,4],[6,7,8,9]])\n",
    "arr.shape = (8,1)\n",
    "arr"
   ]
  },
  {
   "cell_type": "code",
   "execution_count": 40,
   "id": "7f6d77ae",
   "metadata": {
    "ExecuteTime": {
     "end_time": "2023-10-21T06:21:44.158458Z",
     "start_time": "2023-10-21T06:21:44.148434Z"
    }
   },
   "outputs": [],
   "source": [
    "ar = np.arange(24)"
   ]
  },
  {
   "cell_type": "code",
   "execution_count": 41,
   "id": "6aee506f",
   "metadata": {
    "ExecuteTime": {
     "end_time": "2023-10-21T06:21:53.835905Z",
     "start_time": "2023-10-21T06:21:53.808461Z"
    }
   },
   "outputs": [
    {
     "data": {
      "text/plain": [
       "1"
      ]
     },
     "execution_count": 41,
     "metadata": {},
     "output_type": "execute_result"
    }
   ],
   "source": [
    "ar.ndim"
   ]
  },
  {
   "cell_type": "code",
   "execution_count": 42,
   "id": "0ca674f8",
   "metadata": {
    "ExecuteTime": {
     "end_time": "2023-10-21T06:22:17.456524Z",
     "start_time": "2023-10-21T06:22:17.441956Z"
    }
   },
   "outputs": [],
   "source": [
    "ar = ar.reshape(12,2)"
   ]
  },
  {
   "cell_type": "code",
   "execution_count": 43,
   "id": "aa94b6b1",
   "metadata": {
    "ExecuteTime": {
     "end_time": "2023-10-21T06:22:21.887577Z",
     "start_time": "2023-10-21T06:22:21.856109Z"
    }
   },
   "outputs": [
    {
     "data": {
      "text/plain": [
       "2"
      ]
     },
     "execution_count": 43,
     "metadata": {},
     "output_type": "execute_result"
    }
   ],
   "source": [
    "ar.ndim"
   ]
  },
  {
   "cell_type": "code",
   "execution_count": 44,
   "id": "93ae5e8a",
   "metadata": {
    "ExecuteTime": {
     "end_time": "2023-10-21T06:22:34.103928Z",
     "start_time": "2023-10-21T06:22:34.084832Z"
    }
   },
   "outputs": [
    {
     "data": {
      "text/plain": [
       "24"
      ]
     },
     "execution_count": 44,
     "metadata": {},
     "output_type": "execute_result"
    }
   ],
   "source": [
    "ar.size"
   ]
  },
  {
   "cell_type": "code",
   "execution_count": 45,
   "id": "01a1e769",
   "metadata": {
    "ExecuteTime": {
     "end_time": "2023-10-21T06:22:57.658377Z",
     "start_time": "2023-10-21T06:22:57.630092Z"
    }
   },
   "outputs": [],
   "source": [
    "zero = np.zeros((3,4))"
   ]
  },
  {
   "cell_type": "code",
   "execution_count": 46,
   "id": "c36e18d6",
   "metadata": {
    "ExecuteTime": {
     "end_time": "2023-10-21T06:23:06.555741Z",
     "start_time": "2023-10-21T06:23:06.537503Z"
    }
   },
   "outputs": [
    {
     "data": {
      "text/plain": [
       "array([[0., 0., 0., 0.],\n",
       "       [0., 0., 0., 0.],\n",
       "       [0., 0., 0., 0.]])"
      ]
     },
     "execution_count": 46,
     "metadata": {},
     "output_type": "execute_result"
    }
   ],
   "source": [
    "zero"
   ]
  },
  {
   "cell_type": "code",
   "execution_count": 47,
   "id": "1d5b41c8",
   "metadata": {
    "ExecuteTime": {
     "end_time": "2023-10-21T06:23:13.754356Z",
     "start_time": "2023-10-21T06:23:13.743111Z"
    }
   },
   "outputs": [
    {
     "data": {
      "text/plain": [
       "12"
      ]
     },
     "execution_count": 47,
     "metadata": {},
     "output_type": "execute_result"
    }
   ],
   "source": [
    "zero.size"
   ]
  },
  {
   "cell_type": "code",
   "execution_count": 48,
   "id": "81bc77ba",
   "metadata": {
    "ExecuteTime": {
     "end_time": "2023-10-21T06:23:18.302950Z",
     "start_time": "2023-10-21T06:23:18.280264Z"
    }
   },
   "outputs": [
    {
     "data": {
      "text/plain": [
       "2"
      ]
     },
     "execution_count": 48,
     "metadata": {},
     "output_type": "execute_result"
    }
   ],
   "source": [
    "zero.ndim"
   ]
  },
  {
   "cell_type": "code",
   "execution_count": 49,
   "id": "803deaf5",
   "metadata": {
    "ExecuteTime": {
     "end_time": "2023-10-21T06:23:22.974746Z",
     "start_time": "2023-10-21T06:23:22.954731Z"
    }
   },
   "outputs": [
    {
     "data": {
      "text/plain": [
       "(3, 4)"
      ]
     },
     "execution_count": 49,
     "metadata": {},
     "output_type": "execute_result"
    }
   ],
   "source": [
    "zero.shape"
   ]
  },
  {
   "cell_type": "code",
   "execution_count": 50,
   "id": "caf141f0",
   "metadata": {
    "ExecuteTime": {
     "end_time": "2023-10-21T06:23:35.340332Z",
     "start_time": "2023-10-21T06:23:35.325147Z"
    }
   },
   "outputs": [
    {
     "data": {
      "text/plain": [
       "dtype('float64')"
      ]
     },
     "execution_count": 50,
     "metadata": {},
     "output_type": "execute_result"
    }
   ],
   "source": [
    "zero.dtype"
   ]
  },
  {
   "cell_type": "code",
   "execution_count": 51,
   "id": "86b71be4",
   "metadata": {
    "ExecuteTime": {
     "end_time": "2023-10-21T06:24:01.030616Z",
     "start_time": "2023-10-21T06:24:01.020593Z"
    }
   },
   "outputs": [],
   "source": [
    "zero = np.zeros((3,4) , dtype = int)"
   ]
  },
  {
   "cell_type": "code",
   "execution_count": 52,
   "id": "64b1a9d5",
   "metadata": {
    "ExecuteTime": {
     "end_time": "2023-10-21T06:24:05.179777Z",
     "start_time": "2023-10-21T06:24:05.170411Z"
    }
   },
   "outputs": [
    {
     "data": {
      "text/plain": [
       "dtype('int32')"
      ]
     },
     "execution_count": 52,
     "metadata": {},
     "output_type": "execute_result"
    }
   ],
   "source": [
    "zero.dtype"
   ]
  },
  {
   "cell_type": "markdown",
   "id": "77959ee9",
   "metadata": {},
   "source": [
    "## Array Amthematics"
   ]
  },
  {
   "cell_type": "code",
   "execution_count": 53,
   "id": "aedee326",
   "metadata": {
    "ExecuteTime": {
     "end_time": "2023-10-21T06:28:00.833421Z",
     "start_time": "2023-10-21T06:28:00.797395Z"
    }
   },
   "outputs": [
    {
     "data": {
      "text/plain": [
       "15"
      ]
     },
     "execution_count": 53,
     "metadata": {},
     "output_type": "execute_result"
    }
   ],
   "source": [
    "np.sum([1,2,3,4,5])"
   ]
  },
  {
   "cell_type": "code",
   "execution_count": 54,
   "id": "b28d183c",
   "metadata": {
    "ExecuteTime": {
     "end_time": "2023-10-21T06:28:20.441560Z",
     "start_time": "2023-10-21T06:28:20.421229Z"
    }
   },
   "outputs": [
    {
     "data": {
      "text/plain": [
       "25"
      ]
     },
     "execution_count": 54,
     "metadata": {},
     "output_type": "execute_result"
    }
   ],
   "source": [
    "a,b = 10,15\n",
    "np.sum([a,b])"
   ]
  },
  {
   "cell_type": "code",
   "execution_count": null,
   "id": "bce440cb",
   "metadata": {},
   "outputs": [],
   "source": [
    ">>> np.sum([[0, 1], [0, 5]])\n",
    "6\n",
    ">>> np.sum([[0, 1], [0, 5]], axis=0)\n",
    "array([0, 6])\n",
    ">>> np.sum([[0, 1], [0, 5]], axis=1)"
   ]
  },
  {
   "cell_type": "code",
   "execution_count": 55,
   "id": "03ccbf93",
   "metadata": {
    "ExecuteTime": {
     "end_time": "2023-10-21T06:29:25.826387Z",
     "start_time": "2023-10-21T06:29:25.816414Z"
    }
   },
   "outputs": [
    {
     "data": {
      "text/plain": [
       "6"
      ]
     },
     "execution_count": 55,
     "metadata": {},
     "output_type": "execute_result"
    }
   ],
   "source": [
    "np.sum([[0, 1], [0, 5]])"
   ]
  },
  {
   "cell_type": "code",
   "execution_count": 57,
   "id": "a1036077",
   "metadata": {
    "ExecuteTime": {
     "end_time": "2023-10-21T06:30:07.313647Z",
     "start_time": "2023-10-21T06:30:07.306135Z"
    }
   },
   "outputs": [
    {
     "data": {
      "text/plain": [
       "array([[0, 1],\n",
       "       [0, 5]])"
      ]
     },
     "execution_count": 57,
     "metadata": {},
     "output_type": "execute_result"
    }
   ],
   "source": [
    "np.array([[0, 1], [0, 5]])"
   ]
  },
  {
   "cell_type": "code",
   "execution_count": 56,
   "id": "5fd79d56",
   "metadata": {
    "ExecuteTime": {
     "end_time": "2023-10-21T06:29:39.413272Z",
     "start_time": "2023-10-21T06:29:39.381418Z"
    }
   },
   "outputs": [
    {
     "data": {
      "text/plain": [
       "array([0, 6])"
      ]
     },
     "execution_count": 56,
     "metadata": {},
     "output_type": "execute_result"
    }
   ],
   "source": [
    "np.sum([[0, 1], [0, 5]], axis=0)    # axis = 0 -> sum across the columns"
   ]
  },
  {
   "cell_type": "code",
   "execution_count": 58,
   "id": "085665ef",
   "metadata": {
    "ExecuteTime": {
     "end_time": "2023-10-21T06:30:19.632187Z",
     "start_time": "2023-10-21T06:30:19.624258Z"
    }
   },
   "outputs": [
    {
     "data": {
      "text/plain": [
       "array([1, 5])"
      ]
     },
     "execution_count": 58,
     "metadata": {},
     "output_type": "execute_result"
    }
   ],
   "source": [
    "np.sum([[0, 1], [0, 5]], axis=1)   # axis = 1 -> sum across the rows"
   ]
  },
  {
   "cell_type": "code",
   "execution_count": 59,
   "id": "f6c41110",
   "metadata": {
    "ExecuteTime": {
     "end_time": "2023-10-21T06:32:02.637175Z",
     "start_time": "2023-10-21T06:32:02.625294Z"
    }
   },
   "outputs": [
    {
     "data": {
      "text/plain": [
       "1"
      ]
     },
     "execution_count": 59,
     "metadata": {},
     "output_type": "execute_result"
    }
   ],
   "source": [
    "np.subtract(10,9)"
   ]
  },
  {
   "cell_type": "code",
   "execution_count": 60,
   "id": "ab158500",
   "metadata": {
    "ExecuteTime": {
     "end_time": "2023-10-21T06:32:29.382030Z",
     "start_time": "2023-10-21T06:32:29.365527Z"
    }
   },
   "outputs": [
    {
     "data": {
      "text/plain": [
       "-10"
      ]
     },
     "execution_count": 60,
     "metadata": {},
     "output_type": "execute_result"
    }
   ],
   "source": [
    "np.subtract(10,20)"
   ]
  },
  {
   "cell_type": "code",
   "execution_count": 61,
   "id": "e0204029",
   "metadata": {
    "ExecuteTime": {
     "end_time": "2023-10-21T06:32:39.706900Z",
     "start_time": "2023-10-21T06:32:39.677431Z"
    }
   },
   "outputs": [
    {
     "data": {
      "text/plain": [
       "6"
      ]
     },
     "execution_count": 61,
     "metadata": {},
     "output_type": "execute_result"
    }
   ],
   "source": [
    "np.multiply(2,3)"
   ]
  },
  {
   "cell_type": "code",
   "execution_count": 62,
   "id": "becdf7b0",
   "metadata": {
    "ExecuteTime": {
     "end_time": "2023-10-21T06:32:58.734770Z",
     "start_time": "2023-10-21T06:32:58.712667Z"
    }
   },
   "outputs": [
    {
     "data": {
      "text/plain": [
       "2.0"
      ]
     },
     "execution_count": 62,
     "metadata": {},
     "output_type": "execute_result"
    }
   ],
   "source": [
    "np.divide(10,5)"
   ]
  },
  {
   "cell_type": "code",
   "execution_count": 63,
   "id": "0aec03c7",
   "metadata": {
    "ExecuteTime": {
     "end_time": "2023-10-21T06:33:22.380117Z",
     "start_time": "2023-10-21T06:33:22.361511Z"
    }
   },
   "outputs": [
    {
     "name": "stderr",
     "output_type": "stream",
     "text": [
      "<ipython-input-63-366f6012c8b8>:1: RuntimeWarning: divide by zero encountered in true_divide\n",
      "  np.divide(10,0)\n"
     ]
    },
    {
     "data": {
      "text/plain": [
       "inf"
      ]
     },
     "execution_count": 63,
     "metadata": {},
     "output_type": "execute_result"
    }
   ],
   "source": [
    "np.divide(10,0)"
   ]
  },
  {
   "cell_type": "code",
   "execution_count": 64,
   "id": "6bb4eb8c",
   "metadata": {
    "ExecuteTime": {
     "end_time": "2023-10-21T06:34:34.097575Z",
     "start_time": "2023-10-21T06:34:34.083603Z"
    }
   },
   "outputs": [],
   "source": [
    "a = np.array([1,2,3])\n",
    "b = np.array([2,3,4])\n",
    "c = np.multiply(a,b)"
   ]
  },
  {
   "cell_type": "code",
   "execution_count": 65,
   "id": "fee9f46e",
   "metadata": {
    "ExecuteTime": {
     "end_time": "2023-10-21T06:34:36.992940Z",
     "start_time": "2023-10-21T06:34:36.977753Z"
    }
   },
   "outputs": [
    {
     "data": {
      "text/plain": [
       "array([ 2,  6, 12])"
      ]
     },
     "execution_count": 65,
     "metadata": {},
     "output_type": "execute_result"
    }
   ],
   "source": [
    "c"
   ]
  },
  {
   "cell_type": "code",
   "execution_count": 66,
   "id": "e1edec93",
   "metadata": {
    "ExecuteTime": {
     "end_time": "2023-10-21T06:35:11.500306Z",
     "start_time": "2023-10-21T06:35:11.457795Z"
    }
   },
   "outputs": [
    {
     "data": {
      "text/plain": [
       "array([1.        , 1.41421356, 1.73205081])"
      ]
     },
     "execution_count": 66,
     "metadata": {},
     "output_type": "execute_result"
    }
   ],
   "source": [
    "np.sqrt(a)"
   ]
  },
  {
   "cell_type": "code",
   "execution_count": 67,
   "id": "ae117654",
   "metadata": {
    "ExecuteTime": {
     "end_time": "2023-10-21T06:36:22.915086Z",
     "start_time": "2023-10-21T06:36:22.897750Z"
    }
   },
   "outputs": [
    {
     "name": "stdout",
     "output_type": "stream",
     "text": [
      "Sin:  [0.84147098 0.90929743 0.14112001]\n",
      "Cos:  [ 0.54030231 -0.41614684 -0.9899925 ]\n",
      "Log:  [0.         0.69314718 1.09861229]\n"
     ]
    }
   ],
   "source": [
    "print(\"Sin: \", np.sin(a))\n",
    "print(\"Cos: \", np.cos(a))\n",
    "print(\"Log: \", np.log(a))"
   ]
  },
  {
   "cell_type": "markdown",
   "id": "97206515",
   "metadata": {},
   "source": [
    "### Array Comparison"
   ]
  },
  {
   "cell_type": "code",
   "execution_count": 70,
   "id": "6303ca24",
   "metadata": {
    "ExecuteTime": {
     "end_time": "2023-10-21T06:38:25.610046Z",
     "start_time": "2023-10-21T06:38:25.589839Z"
    }
   },
   "outputs": [],
   "source": [
    "a = [1,2,3]\n",
    "b = [2,3,4]\n",
    "c = [1,2,4]"
   ]
  },
  {
   "cell_type": "code",
   "execution_count": 72,
   "id": "596e43cc",
   "metadata": {
    "ExecuteTime": {
     "end_time": "2023-10-21T06:38:32.159318Z",
     "start_time": "2023-10-21T06:38:32.137699Z"
    }
   },
   "outputs": [
    {
     "data": {
      "text/plain": [
       "array([False, False, False])"
      ]
     },
     "execution_count": 72,
     "metadata": {},
     "output_type": "execute_result"
    }
   ],
   "source": [
    "np.equal(a,b)"
   ]
  },
  {
   "cell_type": "code",
   "execution_count": 71,
   "id": "31356a4a",
   "metadata": {
    "ExecuteTime": {
     "end_time": "2023-10-21T06:38:27.680576Z",
     "start_time": "2023-10-21T06:38:27.666140Z"
    }
   },
   "outputs": [
    {
     "data": {
      "text/plain": [
       "array([ True,  True, False])"
      ]
     },
     "execution_count": 71,
     "metadata": {},
     "output_type": "execute_result"
    }
   ],
   "source": [
    "np.equal(a,c)"
   ]
  },
  {
   "cell_type": "markdown",
   "id": "5e9a7484",
   "metadata": {},
   "source": [
    "### Aggregate FUnctions"
   ]
  },
  {
   "cell_type": "code",
   "execution_count": 74,
   "id": "b0282508",
   "metadata": {
    "ExecuteTime": {
     "end_time": "2023-10-21T06:44:17.331902Z",
     "start_time": "2023-10-21T06:44:17.305285Z"
    }
   },
   "outputs": [
    {
     "name": "stdout",
     "output_type": "stream",
     "text": [
      "MIn :  2\n",
      "Minimum :  [1 2 4]\n",
      "Maximum:  [2 3 4]\n",
      "Mean:  2.0\n",
      "Median:  3.0\n",
      "Standard Deviation:  0.816496580927726\n",
      "Variance:  0.6666666666666666\n"
     ]
    }
   ],
   "source": [
    "a = [1,2,3]\n",
    "b = [2,3,4]\n",
    "c = [1,2,4]\n",
    "\n",
    "print(\"MIn : \",np.min(b))\n",
    "print(\"Minimum : \",np.minimum(b,c))  # comparing 2 arrays and return a new array containing the element wise minimum\n",
    "print(\"Maximum: \",np.maximum(b,c))\n",
    "print(\"Mean: \",np.mean(a))\n",
    "print(\"Median: \",np.median(b))\n",
    "print(\"Standard Deviation: \",np.std(a))\n",
    "print(\"Variance: \",np.var(a))"
   ]
  },
  {
   "cell_type": "code",
   "execution_count": 76,
   "id": "03ad678d",
   "metadata": {
    "ExecuteTime": {
     "end_time": "2023-10-21T06:44:49.643151Z",
     "start_time": "2023-10-21T06:44:49.608442Z"
    }
   },
   "outputs": [
    {
     "data": {
      "text/plain": [
       "0.816496580927726"
      ]
     },
     "execution_count": 76,
     "metadata": {},
     "output_type": "execute_result"
    }
   ],
   "source": [
    "np.sqrt(0.6666666666666666)   # std is square root of variance"
   ]
  },
  {
   "cell_type": "code",
   "execution_count": 77,
   "id": "ea9ca00a",
   "metadata": {
    "ExecuteTime": {
     "end_time": "2023-10-21T06:47:15.746454Z",
     "start_time": "2023-10-21T06:47:15.739455Z"
    }
   },
   "outputs": [],
   "source": [
    "shape = (3,4,5)"
   ]
  },
  {
   "cell_type": "code",
   "execution_count": 79,
   "id": "54f5cd29",
   "metadata": {
    "ExecuteTime": {
     "end_time": "2023-10-21T06:48:33.480491Z",
     "start_time": "2023-10-21T06:48:33.461521Z"
    }
   },
   "outputs": [],
   "source": [
    "x = np.zeros(shape)"
   ]
  },
  {
   "cell_type": "code",
   "execution_count": 80,
   "id": "735de61f",
   "metadata": {
    "ExecuteTime": {
     "end_time": "2023-10-21T06:48:37.686951Z",
     "start_time": "2023-10-21T06:48:37.658130Z"
    }
   },
   "outputs": [
    {
     "data": {
      "text/plain": [
       "3"
      ]
     },
     "execution_count": 80,
     "metadata": {},
     "output_type": "execute_result"
    }
   ],
   "source": [
    "x.ndim"
   ]
  },
  {
   "cell_type": "code",
   "execution_count": 81,
   "id": "1c82cee0",
   "metadata": {
    "ExecuteTime": {
     "end_time": "2023-10-21T06:48:44.763952Z",
     "start_time": "2023-10-21T06:48:44.745659Z"
    }
   },
   "outputs": [
    {
     "data": {
      "text/plain": [
       "(3, 4, 5)"
      ]
     },
     "execution_count": 81,
     "metadata": {},
     "output_type": "execute_result"
    }
   ],
   "source": [
    "x.shape"
   ]
  },
  {
   "cell_type": "code",
   "execution_count": 82,
   "id": "6f0b8175",
   "metadata": {
    "ExecuteTime": {
     "end_time": "2023-10-21T06:48:49.719913Z",
     "start_time": "2023-10-21T06:48:49.701408Z"
    }
   },
   "outputs": [
    {
     "data": {
      "text/plain": [
       "dtype('float64')"
      ]
     },
     "execution_count": 82,
     "metadata": {},
     "output_type": "execute_result"
    }
   ],
   "source": [
    "x.dtype"
   ]
  },
  {
   "cell_type": "code",
   "execution_count": 83,
   "id": "a82cdb6f",
   "metadata": {
    "ExecuteTime": {
     "end_time": "2023-10-21T06:48:56.340049Z",
     "start_time": "2023-10-21T06:48:56.318291Z"
    }
   },
   "outputs": [
    {
     "data": {
      "text/plain": [
       "60"
      ]
     },
     "execution_count": 83,
     "metadata": {},
     "output_type": "execute_result"
    }
   ],
   "source": [
    "x.size"
   ]
  },
  {
   "cell_type": "markdown",
   "id": "5e7218f0",
   "metadata": {},
   "source": [
    "## Indexing and Slicing"
   ]
  },
  {
   "cell_type": "code",
   "execution_count": 85,
   "id": "7eac42d5",
   "metadata": {
    "ExecuteTime": {
     "end_time": "2023-10-21T06:52:49.702455Z",
     "start_time": "2023-10-21T06:52:49.687726Z"
    }
   },
   "outputs": [],
   "source": [
    "a = np.array([[1,2,3],[4,5,6],[7,8,9]])"
   ]
  },
  {
   "cell_type": "code",
   "execution_count": 86,
   "id": "bdf01788",
   "metadata": {
    "ExecuteTime": {
     "end_time": "2023-10-21T06:52:52.729974Z",
     "start_time": "2023-10-21T06:52:52.702094Z"
    }
   },
   "outputs": [
    {
     "data": {
      "text/plain": [
       "array([[1, 2, 3],\n",
       "       [4, 5, 6],\n",
       "       [7, 8, 9]])"
      ]
     },
     "execution_count": 86,
     "metadata": {},
     "output_type": "execute_result"
    }
   ],
   "source": [
    "a"
   ]
  },
  {
   "cell_type": "code",
   "execution_count": 87,
   "id": "33f1001c",
   "metadata": {
    "ExecuteTime": {
     "end_time": "2023-10-21T06:52:59.403554Z",
     "start_time": "2023-10-21T06:52:59.381837Z"
    }
   },
   "outputs": [
    {
     "data": {
      "text/plain": [
       "array([1, 2, 3])"
      ]
     },
     "execution_count": 87,
     "metadata": {},
     "output_type": "execute_result"
    }
   ],
   "source": [
    "a[0]"
   ]
  },
  {
   "cell_type": "code",
   "execution_count": 88,
   "id": "ff8b7663",
   "metadata": {
    "ExecuteTime": {
     "end_time": "2023-10-21T06:53:03.431001Z",
     "start_time": "2023-10-21T06:53:03.413044Z"
    }
   },
   "outputs": [
    {
     "data": {
      "text/plain": [
       "array([4, 5, 6])"
      ]
     },
     "execution_count": 88,
     "metadata": {},
     "output_type": "execute_result"
    }
   ],
   "source": [
    "a[1]"
   ]
  },
  {
   "cell_type": "code",
   "execution_count": 89,
   "id": "2004473e",
   "metadata": {
    "ExecuteTime": {
     "end_time": "2023-10-21T06:53:47.385626Z",
     "start_time": "2023-10-21T06:53:47.354247Z"
    }
   },
   "outputs": [
    {
     "data": {
      "text/plain": [
       "array([[1, 2, 3]])"
      ]
     },
     "execution_count": 89,
     "metadata": {},
     "output_type": "execute_result"
    }
   ],
   "source": [
    "a[:1]"
   ]
  },
  {
   "cell_type": "code",
   "execution_count": 90,
   "id": "1c114651",
   "metadata": {
    "ExecuteTime": {
     "end_time": "2023-10-21T06:55:03.873178Z",
     "start_time": "2023-10-21T06:55:03.862140Z"
    }
   },
   "outputs": [
    {
     "data": {
      "text/plain": [
       "array([[2, 3]])"
      ]
     },
     "execution_count": 90,
     "metadata": {},
     "output_type": "execute_result"
    }
   ],
   "source": [
    "a[:1,1:]      # a[0:0 , 1:2]"
   ]
  },
  {
   "cell_type": "code",
   "execution_count": 91,
   "id": "c8121ed4",
   "metadata": {
    "ExecuteTime": {
     "end_time": "2023-10-21T06:55:50.989100Z",
     "start_time": "2023-10-21T06:55:50.962632Z"
    }
   },
   "outputs": [
    {
     "data": {
      "text/plain": [
       "array([[1, 2, 3],\n",
       "       [4, 5, 6],\n",
       "       [7, 8, 9]])"
      ]
     },
     "execution_count": 91,
     "metadata": {},
     "output_type": "execute_result"
    }
   ],
   "source": [
    "a"
   ]
  },
  {
   "cell_type": "markdown",
   "id": "1b801159",
   "metadata": {},
   "source": [
    "        0  1  2\n",
    "      0 [10, 20, 30]\n",
    "      1 [40, 50, 60]\n",
    "      2 [70, 80, 90]"
   ]
  },
  {
   "cell_type": "code",
   "execution_count": null,
   "id": "56a93a2e",
   "metadata": {},
   "outputs": [],
   "source": [
    "a = np.array([[1,2,3],[4,5,6],[7,8,9]])"
   ]
  },
  {
   "cell_type": "code",
   "execution_count": 98,
   "id": "0ab3e415",
   "metadata": {
    "ExecuteTime": {
     "end_time": "2023-10-21T07:07:29.450306Z",
     "start_time": "2023-10-21T07:07:29.437750Z"
    }
   },
   "outputs": [
    {
     "data": {
      "text/plain": [
       "(3, 3)"
      ]
     },
     "execution_count": 98,
     "metadata": {},
     "output_type": "execute_result"
    }
   ],
   "source": [
    "a.shape"
   ]
  },
  {
   "cell_type": "code",
   "execution_count": 92,
   "id": "c3d6e920",
   "metadata": {
    "ExecuteTime": {
     "end_time": "2023-10-21T06:56:47.710697Z",
     "start_time": "2023-10-21T06:56:47.677585Z"
    }
   },
   "outputs": [
    {
     "data": {
      "text/plain": [
       "array([[2, 3],\n",
       "       [5, 6]])"
      ]
     },
     "execution_count": 92,
     "metadata": {},
     "output_type": "execute_result"
    }
   ],
   "source": [
    "# a[rows       , columns]\n",
    "# a[start:stop , start, stop]\n",
    "# a[start:stop-1:start,stop-1]\n",
    "# if nothing is mentioned in the start there will be 0\n",
    "# if nothing is mention in the stop then it will be replaced with end index of the array wea re operating upon\n",
    "a[:2 , 1:]    #a[0:1(stop-1) , 1:2]"
   ]
  },
  {
   "cell_type": "code",
   "execution_count": 97,
   "id": "8200c036",
   "metadata": {
    "ExecuteTime": {
     "end_time": "2023-10-21T07:05:17.764608Z",
     "start_time": "2023-10-21T07:05:17.728091Z"
    }
   },
   "outputs": [
    {
     "data": {
      "text/plain": [
       "array([[2, 3],\n",
       "       [5, 6]])"
      ]
     },
     "execution_count": 97,
     "metadata": {},
     "output_type": "execute_result"
    }
   ],
   "source": [
    "a[0:2 , 1:3]"
   ]
  },
  {
   "cell_type": "code",
   "execution_count": 94,
   "id": "fa6bdb60",
   "metadata": {
    "ExecuteTime": {
     "end_time": "2023-10-21T07:01:01.099274Z",
     "start_time": "2023-10-21T07:01:01.081087Z"
    }
   },
   "outputs": [
    {
     "data": {
      "text/plain": [
       "array([[1, 2, 3],\n",
       "       [4, 5, 6]])"
      ]
     },
     "execution_count": 94,
     "metadata": {},
     "output_type": "execute_result"
    }
   ],
   "source": [
    "a[0:2]"
   ]
  },
  {
   "cell_type": "code",
   "execution_count": 96,
   "id": "50696d35",
   "metadata": {
    "ExecuteTime": {
     "end_time": "2023-10-21T07:01:29.491624Z",
     "start_time": "2023-10-21T07:01:29.470987Z"
    }
   },
   "outputs": [
    {
     "data": {
      "text/plain": [
       "array([[2, 3],\n",
       "       [5, 6]])"
      ]
     },
     "execution_count": 96,
     "metadata": {},
     "output_type": "execute_result"
    }
   ],
   "source": [
    "a[0:2 , 1:3]"
   ]
  },
  {
   "cell_type": "markdown",
   "id": "2ae64716",
   "metadata": {},
   "source": [
    "         0  1  2\n",
    "      0 [1, 2, 3]\n",
    "      1 [4, 5, 6]\n",
    "      2 [7, 8, 9]"
   ]
  },
  {
   "cell_type": "code",
   "execution_count": 99,
   "id": "7c93107a",
   "metadata": {
    "ExecuteTime": {
     "end_time": "2023-10-21T07:09:37.401795Z",
     "start_time": "2023-10-21T07:09:37.384306Z"
    }
   },
   "outputs": [
    {
     "data": {
      "text/plain": [
       "array([[1, 2, 3],\n",
       "       [4, 5, 6],\n",
       "       [7, 8, 9]])"
      ]
     },
     "execution_count": 99,
     "metadata": {},
     "output_type": "execute_result"
    }
   ],
   "source": [
    "a[:,:]    # a[0:3,0:3]"
   ]
  },
  {
   "cell_type": "code",
   "execution_count": 100,
   "id": "ff32a5a4",
   "metadata": {
    "ExecuteTime": {
     "end_time": "2023-10-21T07:09:57.675972Z",
     "start_time": "2023-10-21T07:09:57.661186Z"
    }
   },
   "outputs": [
    {
     "data": {
      "text/plain": [
       "array([[1, 2, 3],\n",
       "       [4, 5, 6],\n",
       "       [7, 8, 9]])"
      ]
     },
     "execution_count": 100,
     "metadata": {},
     "output_type": "execute_result"
    }
   ],
   "source": [
    "a[0:3,0:3]"
   ]
  },
  {
   "cell_type": "code",
   "execution_count": 106,
   "id": "07bdbf02",
   "metadata": {
    "ExecuteTime": {
     "end_time": "2023-10-21T07:14:14.399715Z",
     "start_time": "2023-10-21T07:14:14.372843Z"
    }
   },
   "outputs": [
    {
     "data": {
      "text/plain": [
       "(3, 3)"
      ]
     },
     "execution_count": 106,
     "metadata": {},
     "output_type": "execute_result"
    }
   ],
   "source": [
    "a.shape"
   ]
  },
  {
   "cell_type": "code",
   "execution_count": 101,
   "id": "9aadb53d",
   "metadata": {
    "ExecuteTime": {
     "end_time": "2023-10-21T07:12:17.514311Z",
     "start_time": "2023-10-21T07:12:17.501353Z"
    }
   },
   "outputs": [
    {
     "data": {
      "text/plain": [
       "array([[5, 6],\n",
       "       [8, 9]])"
      ]
     },
     "execution_count": 101,
     "metadata": {},
     "output_type": "execute_result"
    }
   ],
   "source": [
    "a[1: , 1:]  ->  # a[1:3 , 1:3]    -> # a[1:2(stop-1) , 1:2(stop-1)]"
   ]
  },
  {
   "cell_type": "code",
   "execution_count": 103,
   "id": "a14648d5",
   "metadata": {
    "ExecuteTime": {
     "end_time": "2023-10-21T07:13:30.993470Z",
     "start_time": "2023-10-21T07:13:30.970519Z"
    }
   },
   "outputs": [
    {
     "data": {
      "text/plain": [
       "array([[5]])"
      ]
     },
     "execution_count": 103,
     "metadata": {},
     "output_type": "execute_result"
    }
   ],
   "source": [
    "a[1:3 , 1:2]   # a[1:1 , 1:1]"
   ]
  },
  {
   "cell_type": "code",
   "execution_count": 107,
   "id": "26a9594d",
   "metadata": {
    "ExecuteTime": {
     "end_time": "2023-10-21T07:15:55.365911Z",
     "start_time": "2023-10-21T07:15:55.334746Z"
    }
   },
   "outputs": [
    {
     "data": {
      "text/plain": [
       "array([[1, 2, 3],\n",
       "       [4, 5, 6],\n",
       "       [7, 8, 9]])"
      ]
     },
     "execution_count": 107,
     "metadata": {},
     "output_type": "execute_result"
    }
   ],
   "source": [
    "a"
   ]
  },
  {
   "cell_type": "code",
   "execution_count": null,
   "id": "9dc6b8b9",
   "metadata": {},
   "outputs": [],
   "source": [
    "[[4, 5],\n",
    "[7, 8]]"
   ]
  },
  {
   "cell_type": "code",
   "execution_count": 110,
   "id": "d1387bb4",
   "metadata": {
    "ExecuteTime": {
     "end_time": "2023-10-21T07:17:17.330187Z",
     "start_time": "2023-10-21T07:17:17.303260Z"
    }
   },
   "outputs": [
    {
     "data": {
      "text/plain": [
       "array([[4, 5, 6],\n",
       "       [7, 8, 9]])"
      ]
     },
     "execution_count": 110,
     "metadata": {},
     "output_type": "execute_result"
    }
   ],
   "source": [
    "a[1:3]"
   ]
  },
  {
   "cell_type": "code",
   "execution_count": 109,
   "id": "706e8529",
   "metadata": {
    "ExecuteTime": {
     "end_time": "2023-10-21T07:17:03.881974Z",
     "start_time": "2023-10-21T07:17:03.861452Z"
    }
   },
   "outputs": [
    {
     "data": {
      "text/plain": [
       "array([[4, 5],\n",
       "       [7, 8]])"
      ]
     },
     "execution_count": 109,
     "metadata": {},
     "output_type": "execute_result"
    }
   ],
   "source": [
    "a[1:3 , 0:2]  "
   ]
  },
  {
   "cell_type": "markdown",
   "id": "c79fd0f6",
   "metadata": {},
   "source": [
    "## Array Manipulation"
   ]
  },
  {
   "cell_type": "code",
   "execution_count": 112,
   "id": "52974478",
   "metadata": {
    "ExecuteTime": {
     "end_time": "2023-10-21T07:20:04.765300Z",
     "start_time": "2023-10-21T07:20:04.753233Z"
    }
   },
   "outputs": [],
   "source": [
    "a = np.array([1,2,3])\n",
    "b = np.array([4,5,6])"
   ]
  },
  {
   "cell_type": "code",
   "execution_count": 113,
   "id": "b1bd9ca4",
   "metadata": {
    "ExecuteTime": {
     "end_time": "2023-10-21T07:20:06.425564Z",
     "start_time": "2023-10-21T07:20:06.411720Z"
    }
   },
   "outputs": [
    {
     "data": {
      "text/plain": [
       "array([1, 2, 3, 4, 5, 6])"
      ]
     },
     "execution_count": 113,
     "metadata": {},
     "output_type": "execute_result"
    }
   ],
   "source": [
    "np.concatenate((a,b))"
   ]
  },
  {
   "cell_type": "code",
   "execution_count": 114,
   "id": "550ae63d",
   "metadata": {
    "ExecuteTime": {
     "end_time": "2023-10-21T07:22:51.029975Z",
     "start_time": "2023-10-21T07:22:50.987863Z"
    }
   },
   "outputs": [
    {
     "data": {
      "text/plain": [
       "array([1, 2, 3, 4, 5, 6])"
      ]
     },
     "execution_count": 114,
     "metadata": {},
     "output_type": "execute_result"
    }
   ],
   "source": [
    "np.hstack((a,b))"
   ]
  },
  {
   "cell_type": "code",
   "execution_count": 115,
   "id": "ef3d8b0d",
   "metadata": {
    "ExecuteTime": {
     "end_time": "2023-10-21T07:23:04.093995Z",
     "start_time": "2023-10-21T07:23:04.078955Z"
    }
   },
   "outputs": [
    {
     "data": {
      "text/plain": [
       "array([[1, 2, 3],\n",
       "       [4, 5, 6]])"
      ]
     },
     "execution_count": 115,
     "metadata": {},
     "output_type": "execute_result"
    }
   ],
   "source": [
    "np.vstack((a,b))"
   ]
  },
  {
   "cell_type": "code",
   "execution_count": 116,
   "id": "51e06ac4",
   "metadata": {
    "ExecuteTime": {
     "end_time": "2023-10-21T07:24:02.957766Z",
     "start_time": "2023-10-21T07:24:02.948132Z"
    }
   },
   "outputs": [
    {
     "data": {
      "text/plain": [
       "array([[1, 4],\n",
       "       [2, 5],\n",
       "       [3, 6]])"
      ]
     },
     "execution_count": 116,
     "metadata": {},
     "output_type": "execute_result"
    }
   ],
   "source": [
    "np.column_stack((a,b))"
   ]
  },
  {
   "cell_type": "code",
   "execution_count": 118,
   "id": "af357472",
   "metadata": {
    "ExecuteTime": {
     "end_time": "2023-10-21T07:25:02.326378Z",
     "start_time": "2023-10-21T07:25:02.308247Z"
    }
   },
   "outputs": [
    {
     "data": {
      "text/plain": [
       "array([[ 0,  1,  2,  3],\n",
       "       [ 4,  5,  6,  7],\n",
       "       [ 8,  9, 10, 11],\n",
       "       [12, 13, 14, 15]])"
      ]
     },
     "execution_count": 118,
     "metadata": {},
     "output_type": "execute_result"
    }
   ],
   "source": [
    "arr = np.arange(16 , dtype = int).reshape(4,4)\n",
    "arr"
   ]
  },
  {
   "cell_type": "markdown",
   "id": "a1c56000",
   "metadata": {},
   "source": [
    "## Advantages of Numpy Array over list"
   ]
  },
  {
   "cell_type": "code",
   "execution_count": 129,
   "id": "bcf23c06",
   "metadata": {
    "ExecuteTime": {
     "end_time": "2023-10-21T07:31:19.538937Z",
     "start_time": "2023-10-21T07:31:19.526167Z"
    }
   },
   "outputs": [
    {
     "name": "stdout",
     "output_type": "stream",
     "text": [
      "[1, 4, 9, 16, 25]\n"
     ]
    }
   ],
   "source": [
    "my_list = [1,2,3,4,5]\n",
    "\n",
    "squared_list = [x**2 for x in my_list]\n",
    "print(squared_list)"
   ]
  },
  {
   "cell_type": "code",
   "execution_count": 130,
   "id": "067911e9",
   "metadata": {
    "ExecuteTime": {
     "end_time": "2023-10-21T07:31:19.835402Z",
     "start_time": "2023-10-21T07:31:19.830894Z"
    }
   },
   "outputs": [
    {
     "name": "stdout",
     "output_type": "stream",
     "text": [
      "[ 1  4  9 16 25]\n"
     ]
    }
   ],
   "source": [
    "my_array = np.array([1,2,3,4,5])\n",
    "squared_array = np.square(my_array)\n",
    "print(squared_array)"
   ]
  },
  {
   "cell_type": "code",
   "execution_count": 134,
   "id": "34434765",
   "metadata": {
    "ExecuteTime": {
     "end_time": "2023-10-21T07:37:47.408071Z",
     "start_time": "2023-10-21T07:37:47.390179Z"
    }
   },
   "outputs": [],
   "source": [
    "import time"
   ]
  },
  {
   "cell_type": "code",
   "execution_count": 133,
   "id": "90aa62ec",
   "metadata": {
    "ExecuteTime": {
     "end_time": "2023-10-21T07:37:05.022199Z",
     "start_time": "2023-10-21T07:37:04.948328Z"
    }
   },
   "outputs": [
    {
     "name": "stdout",
     "output_type": "stream",
     "text": [
      "0.041472434997558594 0.00469207763671875\n",
      "Numpy is : 8.838821138211381times faster then list \n"
     ]
    }
   ],
   "source": [
    "def using_list():\n",
    "    t1 = time.time()\n",
    "    X = range(100000)\n",
    "    Y = range(100000)\n",
    "    Z = [X[i] + Y[i] for i in range(len(X))]\n",
    "    return time.time() - t1\n",
    "\n",
    "def using_Numpy():\n",
    "    t2 = time.time()\n",
    "    A = np.arange(190000)\n",
    "    B = np.arange(190000)\n",
    "    C = A+B\n",
    "    return time.time() - t2\n",
    "\n",
    "list_time = using_list()\n",
    "array_time = using_Numpy()\n",
    "\n",
    "print(list_time , array_time)\n",
    "print(\"Numpy is : \"+str(list_time/array_time)+\"times faster then list \")"
   ]
  },
  {
   "cell_type": "code",
   "execution_count": 136,
   "id": "893d23a7",
   "metadata": {
    "ExecuteTime": {
     "end_time": "2023-10-21T07:39:20.746297Z",
     "start_time": "2023-10-21T07:39:20.724275Z"
    }
   },
   "outputs": [
    {
     "data": {
      "text/plain": [
       "'C:\\\\Users\\\\shant\\\\Desktop'"
      ]
     },
     "execution_count": 136,
     "metadata": {},
     "output_type": "execute_result"
    }
   ],
   "source": [
    "pwd"
   ]
  }
 ],
 "metadata": {
  "kernelspec": {
   "display_name": "Python 3 (ipykernel)",
   "language": "python",
   "name": "python3"
  },
  "language_info": {
   "codemirror_mode": {
    "name": "ipython",
    "version": 3
   },
   "file_extension": ".py",
   "mimetype": "text/x-python",
   "name": "python",
   "nbconvert_exporter": "python",
   "pygments_lexer": "ipython3",
   "version": "3.11.4"
  },
  "toc": {
   "base_numbering": 1,
   "nav_menu": {},
   "number_sections": true,
   "sideBar": true,
   "skip_h1_title": false,
   "title_cell": "Table of Contents",
   "title_sidebar": "Contents",
   "toc_cell": false,
   "toc_position": {},
   "toc_section_display": true,
   "toc_window_display": true
  }
 },
 "nbformat": 4,
 "nbformat_minor": 5
}
